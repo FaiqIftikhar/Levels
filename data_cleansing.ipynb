{
 "cells": [
  {
   "cell_type": "code",
   "execution_count": 102,
   "metadata": {},
   "outputs": [],
   "source": [
    "import pandas as pd\n",
    "import requests"
   ]
  },
  {
   "cell_type": "code",
   "execution_count": 23,
   "metadata": {},
   "outputs": [
    {
     "name": "stdout",
     "output_type": "stream",
     "text": [
      "200\n"
     ]
    },
    {
     "name": "stderr",
     "output_type": "stream",
     "text": [
      "C:\\Users\\aenal\\AppData\\Local\\Temp\\ipykernel_35576\\667622361.py:12: FutureWarning: Passing literal html to 'read_html' is deprecated and will be removed in a future version. To read from a literal string, wrap it in a 'StringIO' object.\n",
      "  df=pd.read_html(str(indiatable))\n"
     ]
    },
    {
     "ename": "IndexError",
     "evalue": "list index out of range",
     "output_type": "error",
     "traceback": [
      "\u001b[1;31m---------------------------------------------------------------------------\u001b[0m",
      "\u001b[1;31mIndexError\u001b[0m                                Traceback (most recent call last)",
      "Cell \u001b[1;32mIn[23], line 14\u001b[0m\n\u001b[0;32m     12\u001b[0m df\u001b[38;5;241m=\u001b[39mpd\u001b[38;5;241m.\u001b[39mread_html(\u001b[38;5;28mstr\u001b[39m(indiatable))\n\u001b[0;32m     13\u001b[0m \u001b[38;5;66;03m# convert list to dataframe\u001b[39;00m\n\u001b[1;32m---> 14\u001b[0m df\u001b[38;5;241m=\u001b[39mpd\u001b[38;5;241m.\u001b[39mDataFrame(\u001b[43mdf\u001b[49m\u001b[43m[\u001b[49m\u001b[38;5;241;43m1\u001b[39;49m\u001b[43m]\u001b[49m)\n\u001b[0;32m     15\u001b[0m \u001b[38;5;28mprint\u001b[39m(df\u001b[38;5;241m.\u001b[39mhead())\n",
      "\u001b[1;31mIndexError\u001b[0m: list index out of range"
     ]
    }
   ],
   "source": [
    "# get the response in the form of html\n",
    "wikiurl=\"https://en.wikipedia.org/wiki/List_of_companies_of_Germany\"\n",
    "table_class=\"wikitable sortable jquery-tablesorter\"\n",
    "response=requests.get(wikiurl)\n",
    "print(response.status_code)\n",
    "import bs4 as BeautifulSoup\n",
    "import pandas as pd\n",
    "# parse data from the html into a beautifulsoup object\n",
    "soup = BeautifulSoup.BeautifulSoup(response.text, 'html.parser')\n",
    "indiatable=soup.find('table',{'class':\"wikitable\"})\n",
    "\n",
    "df=pd.read_html(str(indiatable))\n",
    "# convert list to dataframe\n",
    "df=pd.DataFrame(df[1])\n",
    "print(df.head())"
   ]
  },
  {
   "cell_type": "code",
   "execution_count": 27,
   "metadata": {},
   "outputs": [
    {
     "data": {
      "text/plain": [
       "'<table class=\"wikitable sortable\">\\n<tbody><tr>\\n<th>Rank\\n</th>\\n<th>Image\\n</th>\\n<th>Name\\n</th>\\n<th>2017 revenues (US$M)\\n</th>\\n<th>Employees\\n</th>\\n<th>Notes\\n</th></tr>\\n<tr>\\n<td>7\\n</td>\\n<td><span typeof=\"mw:File\"><a class=\"mw-file-description\" href=\"/wiki/File:Wolfsburg_VWHochhaus_und_Kraftwerk.JPG\"><img class=\"mw-file-element\" data-file-height=\"1944\" data-file-width=\"2592\" decoding=\"async\" height=\"75\" src=\"//upload.wikimedia.org/wikipedia/commons/thumb/5/56/Wolfsburg_VWHochhaus_und_Kraftwerk.JPG/100px-Wolfsburg_VWHochhaus_und_Kraftwerk.JPG\" srcset=\"//upload.wikimedia.org/wikipedia/commons/thumb/5/56/Wolfsburg_VWHochhaus_und_Kraftwerk.JPG/150px-Wolfsburg_VWHochhaus_und_Kraftwerk.JPG 1.5x, //upload.wikimedia.org/wikipedia/commons/thumb/5/56/Wolfsburg_VWHochhaus_und_Kraftwerk.JPG/200px-Wolfsburg_VWHochhaus_und_Kraftwerk.JPG 2x\" width=\"100\"/></a></span>\\n</td>\\n<td><a href=\"/wiki/Volkswagen_Group\" title=\"Volkswagen Group\">Volkswagen Group</a>\\n</td>\\n<td align=\"right\">260,028\\n</td>\\n<td align=\"right\">642,292\\n</td>\\n<td>Multinational consumer and commercial vehicle manufacturer operating in more than 150 countries.  Consumer brands include <a href=\"/wiki/Audi\" title=\"Audi\">Audi</a>, <a href=\"/wiki/Bentley\" title=\"Bentley\">Bentley</a>, <a href=\"/wiki/Bugatti\" title=\"Bugatti\">Bugatti</a>, <a href=\"/wiki/Lamborghini\" title=\"Lamborghini\">Lamborghini</a>, <a href=\"/wiki/MAN_SE\" title=\"MAN SE\">MAN SE</a>, <a href=\"/wiki/Porsche\" title=\"Porsche\">Porsche</a>, <a href=\"/wiki/Scania_AB\" title=\"Scania AB\">Scania AB</a>, <a href=\"/wiki/SEAT\" title=\"SEAT\">SEAT</a> and <a href=\"/wiki/%C5%A0koda_Auto\" title=\"Škoda Auto\">Škoda Auto</a>.\\n</td></tr>\\n<tr>\\n<td>16\\n</td>\\n<td><span typeof=\"mw:File\"><a class=\"mw-file-description\" href=\"/wiki/File:Stuttgart-Untertuerkheim-DC-Zentrale.jpg\"><img class=\"mw-file-element\" data-file-height=\"595\" data-file-width=\"718\" decoding=\"async\" height=\"83\" src=\"//upload.wikimedia.org/wikipedia/commons/thumb/a/ac/Stuttgart-Untertuerkheim-DC-Zentrale.jpg/100px-Stuttgart-Untertuerkheim-DC-Zentrale.jpg\" srcset=\"//upload.wikimedia.org/wikipedia/commons/thumb/a/ac/Stuttgart-Untertuerkheim-DC-Zentrale.jpg/150px-Stuttgart-Untertuerkheim-DC-Zentrale.jpg 1.5x, //upload.wikimedia.org/wikipedia/commons/thumb/a/ac/Stuttgart-Untertuerkheim-DC-Zentrale.jpg/200px-Stuttgart-Untertuerkheim-DC-Zentrale.jpg 2x\" width=\"100\"/></a></span>\\n</td>\\n<td><a class=\"mw-redirect\" href=\"/wiki/Daimler_AG\" title=\"Daimler AG\">Daimler AG</a>\\n</td>\\n<td align=\"right\">185,235\\n</td>\\n<td align=\"right\">289,321\\n</td>\\n<td><a href=\"/wiki/Stuttgart\" title=\"Stuttgart\">Stuttgart</a>-based multinational automotive manufacturer. Brands include <a href=\"/wiki/Mercedes-Benz\" title=\"Mercedes-Benz\">Mercedes-Benz</a>, <a href=\"/wiki/Mercedes-AMG\" title=\"Mercedes-AMG\">Mercedes-AMG</a>, <a href=\"/wiki/Detroit_Diesel\" title=\"Detroit Diesel\">Detroit Diesel</a>, <a href=\"/wiki/Freightliner_Trucks\" title=\"Freightliner Trucks\">Freightliner Trucks</a>, <a href=\"/wiki/Western_Star_Trucks\" title=\"Western Star Trucks\">Western Star Trucks</a>, <a href=\"/wiki/Thomas_Built_Buses\" title=\"Thomas Built Buses\">Thomas Built Buses</a>, <a href=\"/wiki/Setra\" title=\"Setra\">Setra</a>, <a href=\"/wiki/BharatBenz\" title=\"BharatBenz\">BharatBenz</a>, <a href=\"/wiki/Smart_(marque)\" title=\"Smart (marque)\">Smart</a> and <a href=\"/wiki/Maybach\" title=\"Maybach\">Maybach</a>.\\n</td></tr>\\n<tr>\\n<td>38\\n</td>\\n<td><span typeof=\"mw:File\"><a class=\"mw-file-description\" href=\"/wiki/File:Allianzberlin.jpg\"><img class=\"mw-file-element\" data-file-height=\"599\" data-file-width=\"782\" decoding=\"async\" height=\"77\" src=\"//upload.wikimedia.org/wikipedia/commons/thumb/6/60/Allianzberlin.jpg/100px-Allianzberlin.jpg\" srcset=\"//upload.wikimedia.org/wikipedia/commons/thumb/6/60/Allianzberlin.jpg/150px-Allianzberlin.jpg 1.5x, //upload.wikimedia.org/wikipedia/commons/thumb/6/60/Allianzberlin.jpg/200px-Allianzberlin.jpg 2x\" width=\"100\"/></a></span>\\n</td>\\n<td><a href=\"/wiki/Allianz\" title=\"Allianz\">Allianz</a>\\n</td>\\n<td align=\"right\">123,532\\n</td>\\n<td align=\"right\">140,253\\n</td>\\n<td><a href=\"/wiki/Munich\" title=\"Munich\">Munich</a> financial services company focused on insurance and asset management. One of the largest insurance firms in the world, subsidiaries include <a href=\"/wiki/AGF_(company)\" title=\"AGF (company)\">AGF</a>, <a href=\"/wiki/Allianz_Life\" title=\"Allianz Life\">Allianz Life</a> (life), <a class=\"mw-redirect\" href=\"/wiki/Euler_Hermes\" title=\"Euler Hermes\">Euler Hermes</a> (credit life), and <a href=\"/wiki/PIMCO\" title=\"PIMCO\">PIMCO</a> (investments).\\n</td></tr>\\n<tr>\\n<td>51\\n</td>\\n<td><span typeof=\"mw:File\"><a class=\"mw-file-description\" href=\"/wiki/File:BMW_Vierzylinder_Tower_Muenchen.jpg\"><img class=\"mw-file-element\" data-file-height=\"3888\" data-file-width=\"2592\" decoding=\"async\" height=\"150\" src=\"//upload.wikimedia.org/wikipedia/commons/thumb/4/4d/BMW_Vierzylinder_Tower_Muenchen.jpg/100px-BMW_Vierzylinder_Tower_Muenchen.jpg\" srcset=\"//upload.wikimedia.org/wikipedia/commons/thumb/4/4d/BMW_Vierzylinder_Tower_Muenchen.jpg/150px-BMW_Vierzylinder_Tower_Muenchen.jpg 1.5x, //upload.wikimedia.org/wikipedia/commons/thumb/4/4d/BMW_Vierzylinder_Tower_Muenchen.jpg/200px-BMW_Vierzylinder_Tower_Muenchen.jpg 2x\" width=\"100\"/></a></span>\\n</td>\\n<td><a href=\"/wiki/BMW\" title=\"BMW\">BMW</a>\\n</td>\\n<td align=\"right\">111,231\\n</td>\\n<td align=\"right\">129,932\\n</td>\\n<td>Vehicle manufacturer producing commercial and consumer automobiles and motorcycles. Brands include <a href=\"/wiki/Mini_(marque)\" title=\"Mini (marque)\">Mini</a>, <a href=\"/wiki/Rolls-Royce_Motor_Cars\" title=\"Rolls-Royce Motor Cars\">Rolls-Royce Motor Cars</a>, and <a href=\"/wiki/BMW_Motorrad\" title=\"BMW Motorrad\">BMW Motorrad</a> (motorcycles).\\n</td></tr>\\n<tr>\\n<td>66\\n</td>\\n<td><span typeof=\"mw:File\"><a class=\"mw-file-description\" href=\"/wiki/File:Siemens_Palais.JPG\"><img class=\"mw-file-element\" data-file-height=\"2088\" data-file-width=\"3608\" decoding=\"async\" height=\"58\" src=\"//upload.wikimedia.org/wikipedia/commons/thumb/1/11/Siemens_Palais.JPG/100px-Siemens_Palais.JPG\" srcset=\"//upload.wikimedia.org/wikipedia/commons/thumb/1/11/Siemens_Palais.JPG/150px-Siemens_Palais.JPG 1.5x, //upload.wikimedia.org/wikipedia/commons/thumb/1/11/Siemens_Palais.JPG/200px-Siemens_Palais.JPG 2x\" width=\"100\"/></a></span>\\n</td>\\n<td><a href=\"/wiki/Siemens\" title=\"Siemens\">Siemens</a>\\n</td>\\n<td align=\"right\">91,585\\n</td>\\n<td align=\"right\">372,000\\n</td>\\n<td>Multinational industrial manufacturing conglomerate founded by <a href=\"/wiki/Werner_von_Siemens\" title=\"Werner von Siemens\">Werner von Siemens</a> that includes diversification into energy, healthcare, and infrastructure.\\n</td></tr></tbody></table>'"
      ]
     },
     "execution_count": 27,
     "metadata": {},
     "output_type": "execute_result"
    }
   ],
   "source": [
    "str(indiatable)"
   ]
  },
  {
   "cell_type": "code",
   "execution_count": 17,
   "metadata": {},
   "outputs": [
    {
     "data": {
      "text/html": [
       "<div>\n",
       "<style scoped>\n",
       "    .dataframe tbody tr th:only-of-type {\n",
       "        vertical-align: middle;\n",
       "    }\n",
       "\n",
       "    .dataframe tbody tr th {\n",
       "        vertical-align: top;\n",
       "    }\n",
       "\n",
       "    .dataframe thead th {\n",
       "        text-align: right;\n",
       "    }\n",
       "</style>\n",
       "<table border=\"1\" class=\"dataframe\">\n",
       "  <thead>\n",
       "    <tr style=\"text-align: right;\">\n",
       "      <th></th>\n",
       "      <th>Name</th>\n",
       "    </tr>\n",
       "  </thead>\n",
       "  <tbody>\n",
       "    <tr>\n",
       "      <th>0</th>\n",
       "      <td>Volkswagen Group</td>\n",
       "    </tr>\n",
       "    <tr>\n",
       "      <th>1</th>\n",
       "      <td>Daimler AG</td>\n",
       "    </tr>\n",
       "    <tr>\n",
       "      <th>2</th>\n",
       "      <td>Allianz</td>\n",
       "    </tr>\n",
       "    <tr>\n",
       "      <th>3</th>\n",
       "      <td>BMW</td>\n",
       "    </tr>\n",
       "    <tr>\n",
       "      <th>4</th>\n",
       "      <td>Siemens</td>\n",
       "    </tr>\n",
       "  </tbody>\n",
       "</table>\n",
       "</div>"
      ],
      "text/plain": [
       "               Name\n",
       "0  Volkswagen Group\n",
       "1        Daimler AG\n",
       "2           Allianz\n",
       "3               BMW\n",
       "4           Siemens"
      ]
     },
     "execution_count": 17,
     "metadata": {},
     "output_type": "execute_result"
    }
   ],
   "source": [
    "df"
   ]
  },
  {
   "cell_type": "code",
   "execution_count": 127,
   "metadata": {},
   "outputs": [
    {
     "data": {
      "text/plain": [
       "{'message': 'You are not subscribed to this API.'}"
      ]
     },
     "execution_count": 127,
     "metadata": {},
     "output_type": "execute_result"
    }
   ],
   "source": [
    "response.json()"
   ]
  }
 ],
 "metadata": {
  "kernelspec": {
   "display_name": "env-hawk",
   "language": "python",
   "name": "python3"
  },
  "language_info": {
   "codemirror_mode": {
    "name": "ipython",
    "version": 3
   },
   "file_extension": ".py",
   "mimetype": "text/x-python",
   "name": "python",
   "nbconvert_exporter": "python",
   "pygments_lexer": "ipython3",
   "version": "3.10.4"
  }
 },
 "nbformat": 4,
 "nbformat_minor": 2
}
